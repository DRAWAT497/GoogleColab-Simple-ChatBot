{
  "nbformat": 4,
  "nbformat_minor": 0,
  "metadata": {
    "colab": {
      "provenance": []
    },
    "kernelspec": {
      "name": "python3",
      "display_name": "Python 3"
    },
    "language_info": {
      "name": "python"
    }
  },
  "cells": [
    {
      "cell_type": "code",
      "source": [
        "# Install Streamlit and NLTK\n",
        "!pip install streamlit nltk pyngrok"
      ],
      "metadata": {
        "id": "6sz-WY8Tpikf"
      },
      "execution_count": null,
      "outputs": []
    },
    {
      "cell_type": "code",
      "source": [
        "%%writefile app.py\n",
        "import streamlit as st\n",
        "from nltk.chat.util import Chat, reflections\n",
        "import nltk\n",
        "\n",
        "# Download necessary NLTK data\n",
        "nltk.download('punkt')\n",
        "\n",
        "# Define some patterns and responses\n",
        "patterns = [\n",
        "    (r'hi|hello|hey', ['Hello!', 'Hi there!', 'Hey!']),\n",
        "    (r'how are you?', ['I\\'m good, thank you!', 'I\\'m doing well, thanks for asking.']),\n",
        "    (r'what is your name?', ['You can call me Chatbot.', 'I go by the name Chatbot.']),\n",
        "    (r'bye|exit', ['Goodbye! Have a great day!']),\n",
        "    (r'(.*)', ['I\\'m sorry, I don\\'t understand that. Can you ask something else?'])\n",
        "]\n",
        "\n",
        "# Create a chatbot\n",
        "chatbot = Chat(patterns, reflections)\n",
        "\n",
        "# Streamlit app layout\n",
        "st.title(\"Chatbot Web App\")\n",
        "st.write(\"Hello! I'm Chatbot. How can I help you today?\")\n",
        "\n",
        "# User input\n",
        "user_input = st.text_input(\"You: \")\n",
        "\n",
        "if user_input:\n",
        "    response = chatbot.respond(user_input)\n",
        "    st.write(\"Chatbot:\", response)"
      ],
      "metadata": {
        "id": "RGCucu-Upk7t"
      },
      "execution_count": null,
      "outputs": []
    },
    {
      "cell_type": "code",
      "source": [
        "from pyngrok import ngrok\n",
        "\n",
        "# Set your authtoken\n",
        "ngrok.set_auth_token(\"YOUR_AUTHTOKEN\") # Replace YOUR_AUTHTOKEN with your actual authtoken\n",
        "\n",
        "# Set up a tunnel to the Streamlit app, specifying the address with the port\n",
        "# The addr parameter combines the address and port, ensuring the API finds the 'port' value\n",
        "public_url = ngrok.connect(addr=\"localhost:8501\")\n",
        "print(\"Streamlit app is live at:\", public_url)\n",
        "\n",
        "# Run the Streamlit app\n",
        "!streamlit run app.py &"
      ],
      "metadata": {
        "id": "0PKj41RYppcl"
      },
      "execution_count": null,
      "outputs": []
    }
  ]
}